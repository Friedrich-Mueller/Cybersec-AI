{
 "cells": [
  {
   "cell_type": "markdown",
   "id": "8b3e3765",
   "metadata": {},
   "source": [
    "#### Imports\n"
   ]
  },
  {
   "cell_type": "code",
   "execution_count": 2,
   "id": "0fae89ae",
   "metadata": {},
   "outputs": [],
   "source": [
    "import pandas as pd\n",
    "import numpy as np\n",
    "import matplotlib as plt"
   ]
  },
  {
   "cell_type": "markdown",
   "id": "a56f6aa5",
   "metadata": {},
   "source": [
    "## Read Data from json"
   ]
  },
  {
   "cell_type": "code",
   "execution_count": 15,
   "id": "70a20cb4",
   "metadata": {},
   "outputs": [
    {
     "name": "stdout",
     "output_type": "stream",
     "text": [
      "(2775, 7)\n",
      "      src_id                                                url  \\\n",
      "2770  776091  https://de.reuters.com/article/m-rkte-ausblick...   \n",
      "2771  776092  https://de.reuters.com/article/deutschland-gr-...   \n",
      "2772  776093  https://de.reuters.com/article/deutschland-eur...   \n",
      "2773  776094  https://de.reuters.com/article/nahost-idDEKBN1...   \n",
      "2774  776095  https://de.reuters.com/article/deutschland-koa...   \n",
      "\n",
      "                                                  title  \\\n",
      "2770  HINTERGRUND-Experten erwarten 2018 Dax-Rekordl...   \n",
      "2771  Schleswig-Holsteins Umweltminister Habeck will...   \n",
      "2772  SPD-Chef Schulz stößt mit Europa-Vorstoß auf A...   \n",
      "2773  Palästinenser-Proteste gegen Jerusalem-Beschlu...   \n",
      "2774  Union warnt SPD vor überzogenem Forderungskatalog   \n",
      "\n",
      "                                                   text                 date  \\\n",
      "2770  Anleger, bitte anschnallen: Der Höhenflug des ...  2017-12-10 00:00:00   \n",
      "2771  Schleswig-Holsteins Umweltminister Robert Habe...  2017-12-10 00:00:00   \n",
      "2772  Mit seinem Vorstoß zum Umbau der EU in Vereini...  2017-12-10 00:00:00   \n",
      "2773  Die Proteste der Palästinenser im besetzten We...  2017-12-10 00:00:00   \n",
      "2774  Vor Gesprächen über eine Regierungsbildung war...                  NaN   \n",
      "\n",
      "      fake  src_name  \n",
      "2770   0.0  news_csv  \n",
      "2771   0.0  news_csv  \n",
      "2772   0.0  news_csv  \n",
      "2773   0.0  news_csv  \n",
      "2774   NaN       NaN  \n",
      "src_id        int64\n",
      "url          object\n",
      "title        object\n",
      "text         object\n",
      "date         object\n",
      "fake        float64\n",
      "src_name     object\n",
      "dtype: object\n"
     ]
    }
   ],
   "source": [
    "df = pd.read_csv('fake_news_processed.csv', sep=\";\")\n",
    "print(df.shape)\n",
    "print(df.tail())\n",
    "print(df.dtypes)"
   ]
  },
  {
   "cell_type": "markdown",
   "id": "1bb05eaa",
   "metadata": {},
   "source": [
    "## Visualization/Analysis of Dataset"
   ]
  },
  {
   "cell_type": "markdown",
   "id": "5445ad17",
   "metadata": {},
   "source": [
    "#### Plot of article dates"
   ]
  },
  {
   "cell_type": "code",
   "execution_count": 10,
   "id": "04cafa00",
   "metadata": {},
   "outputs": [
    {
     "ename": "AttributeError",
     "evalue": "Can only use .dt accessor with datetimelike values",
     "output_type": "error",
     "traceback": [
      "\u001b[1;31m---------------------------------------------------------------------------\u001b[0m",
      "\u001b[1;31mAttributeError\u001b[0m                            Traceback (most recent call last)",
      "\u001b[1;32m<ipython-input-10-de5cb202c6dc>\u001b[0m in \u001b[0;36m<module>\u001b[1;34m\u001b[0m\n\u001b[1;32m----> 1\u001b[1;33m \u001b[0mprint\u001b[0m\u001b[1;33m(\u001b[0m\u001b[0mdf\u001b[0m\u001b[1;33m[\u001b[0m\u001b[1;34m\"date\"\u001b[0m\u001b[1;33m]\u001b[0m\u001b[1;33m.\u001b[0m\u001b[0mgroupby\u001b[0m\u001b[1;33m(\u001b[0m\u001b[1;33m[\u001b[0m\u001b[0mdf\u001b[0m\u001b[1;33m[\u001b[0m\u001b[1;34m\"date\"\u001b[0m\u001b[1;33m]\u001b[0m\u001b[1;33m.\u001b[0m\u001b[0mdt\u001b[0m\u001b[1;33m.\u001b[0m\u001b[0myear\u001b[0m\u001b[1;33m.\u001b[0m\u001b[0mastype\u001b[0m\u001b[1;33m(\u001b[0m\u001b[1;34m'Int64'\u001b[0m\u001b[1;33m)\u001b[0m\u001b[1;33m,\u001b[0m \u001b[0mdf\u001b[0m\u001b[1;33m[\u001b[0m\u001b[1;34m\"date\"\u001b[0m\u001b[1;33m]\u001b[0m\u001b[1;33m.\u001b[0m\u001b[0mdt\u001b[0m\u001b[1;33m.\u001b[0m\u001b[0mmonth\u001b[0m\u001b[1;33m.\u001b[0m\u001b[0mastype\u001b[0m\u001b[1;33m(\u001b[0m\u001b[1;34m'Int64'\u001b[0m\u001b[1;33m)\u001b[0m\u001b[1;33m]\u001b[0m\u001b[1;33m)\u001b[0m\u001b[1;33m.\u001b[0m\u001b[0mcount\u001b[0m\u001b[1;33m(\u001b[0m\u001b[1;33m)\u001b[0m\u001b[1;33m)\u001b[0m\u001b[1;33m\u001b[0m\u001b[1;33m\u001b[0m\u001b[0m\n\u001b[0m\u001b[0;32m      2\u001b[0m \u001b[0mdf\u001b[0m\u001b[1;33m[\u001b[0m\u001b[1;34m\"date\"\u001b[0m\u001b[1;33m]\u001b[0m\u001b[1;33m.\u001b[0m\u001b[0mgroupby\u001b[0m\u001b[1;33m(\u001b[0m\u001b[1;33m[\u001b[0m\u001b[0mdf\u001b[0m\u001b[1;33m[\u001b[0m\u001b[1;34m\"date\"\u001b[0m\u001b[1;33m]\u001b[0m\u001b[1;33m.\u001b[0m\u001b[0mdt\u001b[0m\u001b[1;33m.\u001b[0m\u001b[0myear\u001b[0m\u001b[1;33m.\u001b[0m\u001b[0mastype\u001b[0m\u001b[1;33m(\u001b[0m\u001b[1;34m'Int64'\u001b[0m\u001b[1;33m)\u001b[0m\u001b[1;33m,\u001b[0m \u001b[0mdf\u001b[0m\u001b[1;33m[\u001b[0m\u001b[1;34m\"date\"\u001b[0m\u001b[1;33m]\u001b[0m\u001b[1;33m.\u001b[0m\u001b[0mdt\u001b[0m\u001b[1;33m.\u001b[0m\u001b[0mmonth\u001b[0m\u001b[1;33m.\u001b[0m\u001b[0mastype\u001b[0m\u001b[1;33m(\u001b[0m\u001b[1;34m'Int64'\u001b[0m\u001b[1;33m)\u001b[0m\u001b[1;33m]\u001b[0m\u001b[1;33m)\u001b[0m\u001b[1;33m.\u001b[0m\u001b[0mcount\u001b[0m\u001b[1;33m(\u001b[0m\u001b[1;33m)\u001b[0m\u001b[1;33m.\u001b[0m\u001b[0mplot\u001b[0m\u001b[1;33m(\u001b[0m\u001b[0mkind\u001b[0m\u001b[1;33m=\u001b[0m\u001b[1;34m\"bar\"\u001b[0m\u001b[1;33m,\u001b[0m \u001b[0mfigsize\u001b[0m\u001b[1;33m=\u001b[0m\u001b[1;33m(\u001b[0m\u001b[1;36m8\u001b[0m\u001b[1;33m,\u001b[0m\u001b[1;36m8\u001b[0m\u001b[1;33m)\u001b[0m\u001b[1;33m,\u001b[0m \u001b[0mrot\u001b[0m\u001b[1;33m=\u001b[0m\u001b[1;34m\"65\"\u001b[0m\u001b[1;33m,\u001b[0m \u001b[0mfontsize\u001b[0m\u001b[1;33m=\u001b[0m\u001b[1;36m15\u001b[0m\u001b[1;33m)\u001b[0m\u001b[1;33m\u001b[0m\u001b[1;33m\u001b[0m\u001b[0m\n",
      "\u001b[1;32m~\\anaconda3\\lib\\site-packages\\pandas\\core\\generic.py\u001b[0m in \u001b[0;36m__getattr__\u001b[1;34m(self, name)\u001b[0m\n\u001b[0;32m   5459\u001b[0m             \u001b[1;32mor\u001b[0m \u001b[0mname\u001b[0m \u001b[1;32min\u001b[0m \u001b[0mself\u001b[0m\u001b[1;33m.\u001b[0m\u001b[0m_accessors\u001b[0m\u001b[1;33m\u001b[0m\u001b[1;33m\u001b[0m\u001b[0m\n\u001b[0;32m   5460\u001b[0m         ):\n\u001b[1;32m-> 5461\u001b[1;33m             \u001b[1;32mreturn\u001b[0m \u001b[0mobject\u001b[0m\u001b[1;33m.\u001b[0m\u001b[0m__getattribute__\u001b[0m\u001b[1;33m(\u001b[0m\u001b[0mself\u001b[0m\u001b[1;33m,\u001b[0m \u001b[0mname\u001b[0m\u001b[1;33m)\u001b[0m\u001b[1;33m\u001b[0m\u001b[1;33m\u001b[0m\u001b[0m\n\u001b[0m\u001b[0;32m   5462\u001b[0m         \u001b[1;32melse\u001b[0m\u001b[1;33m:\u001b[0m\u001b[1;33m\u001b[0m\u001b[1;33m\u001b[0m\u001b[0m\n\u001b[0;32m   5463\u001b[0m             \u001b[1;32mif\u001b[0m \u001b[0mself\u001b[0m\u001b[1;33m.\u001b[0m\u001b[0m_info_axis\u001b[0m\u001b[1;33m.\u001b[0m\u001b[0m_can_hold_identifiers_and_holds_name\u001b[0m\u001b[1;33m(\u001b[0m\u001b[0mname\u001b[0m\u001b[1;33m)\u001b[0m\u001b[1;33m:\u001b[0m\u001b[1;33m\u001b[0m\u001b[1;33m\u001b[0m\u001b[0m\n",
      "\u001b[1;32m~\\anaconda3\\lib\\site-packages\\pandas\\core\\accessor.py\u001b[0m in \u001b[0;36m__get__\u001b[1;34m(self, obj, cls)\u001b[0m\n\u001b[0;32m    178\u001b[0m             \u001b[1;31m# we're accessing the attribute of the class, i.e., Dataset.geo\u001b[0m\u001b[1;33m\u001b[0m\u001b[1;33m\u001b[0m\u001b[1;33m\u001b[0m\u001b[0m\n\u001b[0;32m    179\u001b[0m             \u001b[1;32mreturn\u001b[0m \u001b[0mself\u001b[0m\u001b[1;33m.\u001b[0m\u001b[0m_accessor\u001b[0m\u001b[1;33m\u001b[0m\u001b[1;33m\u001b[0m\u001b[0m\n\u001b[1;32m--> 180\u001b[1;33m         \u001b[0maccessor_obj\u001b[0m \u001b[1;33m=\u001b[0m \u001b[0mself\u001b[0m\u001b[1;33m.\u001b[0m\u001b[0m_accessor\u001b[0m\u001b[1;33m(\u001b[0m\u001b[0mobj\u001b[0m\u001b[1;33m)\u001b[0m\u001b[1;33m\u001b[0m\u001b[1;33m\u001b[0m\u001b[0m\n\u001b[0m\u001b[0;32m    181\u001b[0m         \u001b[1;31m# Replace the property with the accessor object. Inspired by:\u001b[0m\u001b[1;33m\u001b[0m\u001b[1;33m\u001b[0m\u001b[1;33m\u001b[0m\u001b[0m\n\u001b[0;32m    182\u001b[0m         \u001b[1;31m# https://www.pydanny.com/cached-property.html\u001b[0m\u001b[1;33m\u001b[0m\u001b[1;33m\u001b[0m\u001b[1;33m\u001b[0m\u001b[0m\n",
      "\u001b[1;32m~\\anaconda3\\lib\\site-packages\\pandas\\core\\indexes\\accessors.py\u001b[0m in \u001b[0;36m__new__\u001b[1;34m(cls, data)\u001b[0m\n\u001b[0;32m    492\u001b[0m             \u001b[1;32mreturn\u001b[0m \u001b[0mPeriodProperties\u001b[0m\u001b[1;33m(\u001b[0m\u001b[0mdata\u001b[0m\u001b[1;33m,\u001b[0m \u001b[0morig\u001b[0m\u001b[1;33m)\u001b[0m\u001b[1;33m\u001b[0m\u001b[1;33m\u001b[0m\u001b[0m\n\u001b[0;32m    493\u001b[0m \u001b[1;33m\u001b[0m\u001b[0m\n\u001b[1;32m--> 494\u001b[1;33m         \u001b[1;32mraise\u001b[0m \u001b[0mAttributeError\u001b[0m\u001b[1;33m(\u001b[0m\u001b[1;34m\"Can only use .dt accessor with datetimelike values\"\u001b[0m\u001b[1;33m)\u001b[0m\u001b[1;33m\u001b[0m\u001b[1;33m\u001b[0m\u001b[0m\n\u001b[0m",
      "\u001b[1;31mAttributeError\u001b[0m: Can only use .dt accessor with datetimelike values"
     ]
    }
   ],
   "source": [
    "print(df[\"date\"].groupby([df[\"date\"].dt.year.astype('Int64'), df[\"date\"].dt.month.astype('Int64')]).count())\n",
    "df[\"date\"].groupby([df[\"date\"].dt.year.astype('Int64'), df[\"date\"].dt.month.astype('Int64')]).count().plot(kind=\"bar\", figsize=(8,8), rot=\"65\", fontsize=15)"
   ]
  },
  {
   "cell_type": "markdown",
   "id": "85eee652",
   "metadata": {},
   "source": [
    "#### Plot of ratio of fake statements - Percentage of fake found in the article\n",
    "\n",
    "1 = Text is based on true information. Up to 25% of the information in the text is false\n",
    "\n",
    "2 = Up to 50% of the information in the text is false. The other statements in the article are factually accurate\n",
    "\n",
    "3 = Up to 75% of the content non-factual and incorrect\n",
    "\n",
    "4 = Pure fabrication with up to 100% false information in text \n",
    "\n",
    "9 = Unclear, unverifiable\n"
   ]
  },
  {
   "cell_type": "code",
   "execution_count": 6,
   "id": "e4de9323",
   "metadata": {},
   "outputs": [
    {
     "name": "stdout",
     "output_type": "stream",
     "text": [
      "Ratio_of_Fake_Statements\n",
      "1    235\n",
      "2    149\n",
      "3     82\n",
      "4     20\n",
      "9      4\n",
      "Name: Ratio_of_Fake_Statements, dtype: int64\n"
     ]
    },
    {
     "data": {
      "image/png": "[encoded data removed]",
      "text/plain": [
       "<Figure size 432x288 with 1 Axes>"
      ]
     },
     "metadata": {
      "needs_background": "light"
     },
     "output_type": "display_data"
    }
   ],
   "source": [
    "df[\"Ratio_of_Fake_Statements\"].groupby([df[\"Ratio_of_Fake_Statements\"]]).count().plot(kind=\"bar\",  rot=\"0\", fontsize=15)\n",
    "print(df[\"Ratio_of_Fake_Statements\"].groupby([df[\"Ratio_of_Fake_Statements\"]]).count())\n",
    "# df.hist(bins=30, figsize=(10, 10))"
   ]
  },
  {
   "cell_type": "markdown",
   "id": "fc5acfda",
   "metadata": {},
   "source": [
    "Overall_Rating of the disinformation in text: range [0.1:1.0].\n",
    "\n",
    "0.1 no disinformation in text \n",
    "\n",
    "0.2\n",
    "\n",
    "0.3\n",
    "\n",
    "0.4\n",
    "\n",
    "0.5 neutral / ambivalent \n",
    "0.6\n",
    "\n",
    "0.7\n",
    "\n",
    "0.8\n",
    "\n",
    "0.9\n",
    "\n",
    "1.0 strong disinformative text"
   ]
  },
  {
   "cell_type": "code",
   "execution_count": 7,
   "id": "dfafc732",
   "metadata": {},
   "outputs": [
    {
     "name": "stdout",
     "output_type": "stream",
     "text": [
      "Overall_Rating\n",
      "0.1     5\n",
      "0.2    37\n",
      "0.3    50\n",
      "0.4    36\n",
      "0.5    51\n",
      "0.6    88\n",
      "0.7    91\n",
      "0.8    89\n",
      "0.9    31\n",
      "1.0    12\n",
      "Name: Overall_Rating, dtype: int64\n"
     ]
    },
    {
     "data": {
      "text/plain": [
       "<AxesSubplot:xlabel='Overall_Rating'>"
      ]
     },
     "execution_count": 7,
     "metadata": {},
     "output_type": "execute_result"
    },
    {
     "data": {
      "image/png": "[encoded data removed]",
      "text/plain": [
       "<Figure size 432x288 with 1 Axes>"
      ]
     },
     "metadata": {
      "needs_background": "light"
     },
     "output_type": "display_data"
    }
   ],
   "source": [
    "print(df[\"Overall_Rating\"].groupby([df[\"Overall_Rating\"]]).count())\n",
    "df[\"Overall_Rating\"].groupby([df[\"Overall_Rating\"]]).count().plot(kind=\"bar\",  rot=\"0\", fontsize=15)"
   ]
  },
  {
   "cell_type": "code",
   "execution_count": 8,
   "id": "8a443c27",
   "metadata": {},
   "outputs": [
    {
     "name": "stdout",
     "output_type": "stream",
     "text": [
      "False_Statement_1_Location\n",
      "Image      20\n",
      "Teaser     50\n",
      "Text      198\n",
      "Title     222\n",
      "Name: False_Statement_1_Location, dtype: int64\n"
     ]
    },
    {
     "data": {
      "image/png": "[encoded data removed]",
      "text/plain": [
       "<Figure size 432x288 with 1 Axes>"
      ]
     },
     "metadata": {
      "needs_background": "light"
     },
     "output_type": "display_data"
    }
   ],
   "source": [
    "df[\"False_Statement_1_Location\"].groupby([df[\"False_Statement_1_Location\"]]).count().plot(kind=\"bar\",  rot=\"0\", fontsize=15)\n",
    "print(df[\"False_Statement_1_Location\"].groupby([df[\"False_Statement_1_Location\"]]).count())"
   ]
  },
  {
   "cell_type": "code",
   "execution_count": 9,
   "id": "bfdcbcc6",
   "metadata": {},
   "outputs": [
    {
     "name": "stdout",
     "output_type": "stream",
     "text": [
      "False_Statement_2_Location\n",
      "          171\n",
      "Image      16\n",
      "Teaser     33\n",
      "Text      248\n",
      "Title      22\n",
      "Name: False_Statement_2_Location, dtype: int64\n"
     ]
    },
    {
     "data": {
      "image/png": "[encoded data removed]",
      "text/plain": [
       "<Figure size 432x288 with 1 Axes>"
      ]
     },
     "metadata": {
      "needs_background": "light"
     },
     "output_type": "display_data"
    }
   ],
   "source": [
    "df[\"False_Statement_2_Location\"].groupby([df[\"False_Statement_2_Location\"]]).count().plot(kind=\"bar\",  rot=\"0\", fontsize=15)\n",
    "print(df[\"False_Statement_2_Location\"].groupby([df[\"False_Statement_2_Location\"]]).count())"
   ]
  },
  {
   "cell_type": "code",
   "execution_count": 86,
   "id": "ecd1b686",
   "metadata": {},
   "outputs": [
    {
     "name": "stdout",
     "output_type": "stream",
     "text": [
      "False_Statement_3_Location\n",
      "          327\n",
      "Image       6\n",
      "Teaser      5\n",
      "Text      149\n",
      "Title       3\n",
      "Name: False_Statement_3_Location, dtype: int64\n"
     ]
    },
    {
     "data": {
      "image/png": "[encoded data removed]",
      "text/plain": [
       "<Figure size 432x288 with 1 Axes>"
      ]
     },
     "metadata": {
      "needs_background": "light"
     },
     "output_type": "display_data"
    }
   ],
   "source": [
    "df[\"False_Statement_3_Location\"].groupby([df[\"False_Statement_3_Location\"]]).count().plot(kind=\"bar\",  rot=\"0\", fontsize=15)\n",
    "print(df[\"False_Statement_3_Location\"].groupby([df[\"False_Statement_3_Location\"]]).count())"
   ]
  },
  {
   "cell_type": "code",
   "execution_count": 11,
   "id": "4fb8533a",
   "metadata": {},
   "outputs": [],
   "source": [
    "df_urls = df[\"URL\"]"
   ]
  },
  {
   "cell_type": "code",
   "execution_count": 12,
   "id": "ab57a479",
   "metadata": {},
   "outputs": [
    {
     "data": {
      "text/plain": [
       "0      https://schluesselkindblog.com/2017/08/30/proz...\n",
       "1      http://blauerbote.com/2017/12/18/bild-journali...\n",
       "2      http://blauerbote.com/2017/06/02/angela-merkel...\n",
       "3      http://smopo.ch/deutschlands-neonazis-waehlen-...\n",
       "4      http://www.truth24.net/gruppenvergewaltigung-s...\n",
       "                             ...                        \n",
       "485    http://www.anonymousnews.ru/2017/11/01/sex-dsc...\n",
       "486    https://blog.halle-leaks.de/messer-jihad-in-ko...\n",
       "487    https://blog.halle-leaks.de/erzieherin-will-vo...\n",
       "488    https://www.compact-online.de/armer-martin-sch...\n",
       "489    https://de.sott.net/article/32263-Kindesmissbr...\n",
       "Name: URL, Length: 490, dtype: object"
      ]
     },
     "execution_count": 12,
     "metadata": {},
     "output_type": "execute_result"
    }
   ],
   "source": [
    "df_urls"
   ]
  },
  {
   "cell_type": "code",
   "execution_count": null,
   "id": "c6f9ad94",
   "metadata": {},
   "outputs": [],
   "source": []
  }
 ],
 "metadata": {
  "kernelspec": {
   "display_name": "Python 3",
   "language": "python",
   "name": "python3"
  },
  "language_info": {
   "codemirror_mode": {
    "name": "ipython",
    "version": 3
   },
   "file_extension": ".py",
   "mimetype": "text/x-python",
   "name": "python",
   "nbconvert_exporter": "python",
   "pygments_lexer": "ipython3",
   "version": "3.8.8"
  }
 },
 "nbformat": 4,
 "nbformat_minor": 5
}
