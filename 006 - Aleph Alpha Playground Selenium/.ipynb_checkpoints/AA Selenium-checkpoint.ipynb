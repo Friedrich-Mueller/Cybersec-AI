{
 "cells": [
  {
   "cell_type": "markdown",
   "metadata": {},
   "source": [
    "#### Imports & Credentials"
   ]
  },
  {
   "cell_type": "code",
   "execution_count": 1,
   "metadata": {},
   "outputs": [],
   "source": [
    "from selenium import webdriver\n",
    "from selenium.webdriver.support.ui import WebDriverWait\n",
    "from webdriver_manager.chrome import ChromeDriverManager\n",
    "from selenium.webdriver.common.by import By\n",
    "\n",
    "import time\n",
    "\n",
    "# service = Service(executable_path=ChromeDriverManager().install())\n",
    "\n",
    "# login credentials\n",
    "username = \"mueller.friedrich@gmail.com\"\n",
    "password = \"abcdef\"\n",
    "\n"
   ]
  },
  {
   "cell_type": "markdown",
   "metadata": {},
   "source": [
    "#### Start the Browser (Chrome in this case) and go to login"
   ]
  },
  {
   "cell_type": "code",
   "execution_count": 2,
   "metadata": {},
   "outputs": [
    {
     "name": "stdout",
     "output_type": "stream",
     "text": [
      "Sign up\n",
      "Sign in\n"
     ]
    }
   ],
   "source": [
    "### Start the Browser (Chrome in this case)\n",
    "\n",
    "# initialize/open the Chrome broswer\n",
    "browser = webdriver.Chrome(\"chromedriver\")\n",
    "\n",
    "# Go to login site\n",
    "browser.get(\"https://app.aleph-alpha.com/login\")\n",
    "\n",
    "time.sleep(1)\n",
    "\n",
    "\n",
    "### Maneuver the login\n",
    "\n",
    "# Press buttom \"Accept Selected\" (with \"essential\" cookies selected by default) \n",
    "for elem in browser.find_elements(By.XPATH, './/span[@class = \"mantine-qo1k2 mantine-Button-label\"]'):\n",
    "    if elem.text == \"Accept Selected\":\n",
    "        elem.click()\n",
    "\n",
    "# find username/email field and send the username itself to the input field\n",
    "browser.find_element(By.ID, \"email\").send_keys(username)\n",
    "\n",
    "# find password input field and insert password as well\n",
    "browser.find_element(By.ID, \"password\").send_keys(password)\n",
    "\n",
    "time.sleep(1)\n",
    "\n",
    "# click login button\n",
    "for elem in browser.find_elements(By.XPATH, './/span[@class = \"mantine-qo1k2 mantine-Button-label\"]'):\n",
    "    print(elem.text)\n",
    "    if elem.text == \"Sign in\":\n",
    "        elem.click()\n",
    "\n",
    "time.sleep(1)\n",
    "\n",
    "browser.get(\"https://app.aleph-alpha.com/playground/completion\")"
   ]
  },
  {
   "cell_type": "code",
   "execution_count": null,
   "metadata": {},
   "outputs": [],
   "source": []
  },
  {
   "cell_type": "code",
   "execution_count": null,
   "metadata": {},
   "outputs": [],
   "source": []
  }
 ],
 "metadata": {
  "kernelspec": {
   "display_name": "Python 3",
   "language": "python",
   "name": "python3"
  },
  "language_info": {
   "codemirror_mode": {
    "name": "ipython",
    "version": 3
   },
   "file_extension": ".py",
   "mimetype": "text/x-python",
   "name": "python",
   "nbconvert_exporter": "python",
   "pygments_lexer": "ipython3",
   "version": "3.8.5"
  },
  "toc": {
   "base_numbering": 1,
   "nav_menu": {},
   "number_sections": true,
   "sideBar": true,
   "skip_h1_title": false,
   "title_cell": "Table of Contents",
   "title_sidebar": "Contents",
   "toc_cell": false,
   "toc_position": {},
   "toc_section_display": true,
   "toc_window_display": false
  }
 },
 "nbformat": 4,
 "nbformat_minor": 4
}
