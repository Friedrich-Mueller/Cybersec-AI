{
 "cells": [
  {
   "cell_type": "markdown",
   "metadata": {},
   "source": [
    "#### Imports & Credentials"
   ]
  },
  {
   "cell_type": "code",
   "execution_count": 1,
   "metadata": {},
   "outputs": [],
   "source": [
    "from selenium import webdriver\n",
    "from selenium.webdriver.support.ui import WebDriverWait\n",
    "from webdriver_manager.chrome import ChromeDriverManager\n",
    "from selenium.webdriver.common.by import By\n",
    "\n",
    "import pandas as pd\n",
    "import os\n",
    "import time\n",
    "import pickle\n",
    "import nltk\n",
    "\n",
    "# service = Service(executable_path=ChromeDriverManager().install())\n",
    "\n",
    "# login credentials\n",
    "username = \"mueller.friedrich@gmail.com\"\n",
    "password = \"abcdef\"\n",
    "\n"
   ]
  },
  {
   "cell_type": "markdown",
   "metadata": {},
   "source": [
    "#### Start the Browser (Chrome in this case) and go to login"
   ]
  },
  {
   "cell_type": "code",
   "execution_count": 3,
   "metadata": {},
   "outputs": [
    {
     "name": "stdout",
     "output_type": "stream",
     "text": [
      "Sign up\n",
      "Sign in\n"
     ]
    }
   ],
   "source": [
    "### Start the Browser (Chrome in this case)\n",
    "\n",
    "# initialize/open the Chrome broswer\n",
    "browser = webdriver.Chrome(\"chromedriver\")\n",
    "\n",
    "# Go to login site\n",
    "browser.get(\"https://app.aleph-alpha.com/login\")\n",
    "\n",
    "time.sleep(1)\n",
    "\n",
    "\n",
    "### Maneuver the login\n",
    "\n",
    "# Press buttom \"Accept Selected\" (with \"essential\" cookies selected by default) \n",
    "for elem in browser.find_elements(By.XPATH, './/span[@class = \"mantine-qo1k2 mantine-Button-label\"]'):\n",
    "    if elem.text == \"Accept Selected\":\n",
    "        elem.click()\n",
    "\n",
    "# find username/email field and send the username itself to the input field\n",
    "browser.find_element(By.ID, \"email\").send_keys(username)\n",
    "\n",
    "# find password input field and insert password as well\n",
    "browser.find_element(By.ID, \"password\").send_keys(password)\n",
    "\n",
    "time.sleep(1)\n",
    "\n",
    "# click login button\n",
    "for elem in browser.find_elements(By.XPATH, './/span[@class = \"mantine-qo1k2 mantine-Button-label\"]'):\n",
    "    print(elem.text)\n",
    "    if elem.text == \"Sign in\":\n",
    "        elem.click()\n",
    "\n",
    "time.sleep(1)\n",
    "\n",
    "browser.get(\"https://app.aleph-alpha.com/playground/completion\")"
   ]
  },
  {
   "cell_type": "markdown",
   "metadata": {},
   "source": [
    "#### Prepare the data for playground prompts (see german_datasets_titles_texts.csv after execution of cell)"
   ]
  },
  {
   "cell_type": "code",
   "execution_count": null,
   "metadata": {},
   "outputs": [],
   "source": [
    "# Load dataset (from outside of github repo contents)\n",
    "\n",
    "# pandas.read_csv(r\"C:\\Users\\fjun\\Desktop\")\n",
    "df = pd.read_csv(\"C:\\\\Users\\\\fjun\\\\Desktop\\\\datasets_merged.csv\",  sep=';')\n",
    "# print(df)\n",
    "\n",
    "# Concat title and text into one and save text column in new dataframe\n",
    "\n",
    "# first load the pos tagger\n",
    "f = open('german_pos_classifier.pickle', 'rb')\n",
    "pos_clf = pickle.load(f)\n",
    "f.close()\n",
    "\n",
    "def title_to_sentence(title, clf):\n",
    "    tokens = clf.tag(nltk.word_tokenize(title))\n",
    "    if tokens[-1][1] != '$.':\n",
    "        return title+'.'\n",
    "    else:\n",
    "        return title\n",
    "    \n",
    "# get the titles and texts merges\n",
    "df_new = df['title'].apply(title_to_sentence, clf=pos_clf)+' '+df['text']\n",
    "df_new['fake'] = df['fake']\n",
    "\n",
    "# save dataframe\n",
    "df_new.to_csv('german_datasets_titles_texts.csv', sep=',', index=False)"
   ]
  },
  {
   "cell_type": "code",
   "execution_count": null,
   "metadata": {},
   "outputs": [],
   "source": [
    "# Pick some fake news with twitter post maximal length and\n",
    "# extract keywords/information from it for prompt generation\n",
    "df = pd.read_csv(\"german_datasets_titles_texts.csv\",  sep=',')\n",
    "\n",
    "\n",
    "# print(df)\n",
    "# print(df['0'])\n",
    "\n",
    "# df[\"CharCounts\"]=df[\"0\"].apply(lambda x: len(x))\n",
    "# print(df)\n",
    "# df=df[(df[\"CharCounts\"]>= 2)&(df[\"CharCounts\"]<=280)]\n",
    "print(df)\n",
    "\n",
    "\n",
    "# Pick some non-fake news with twitter post maximal length\n",
    "# and extract keywords/information from it for fake news\n",
    "# generation\n",
    "\n",
    "\n"
   ]
  },
  {
   "cell_type": "code",
   "execution_count": 7,
   "metadata": {},
   "outputs": [
    {
     "data": {
      "image/png": "[encoded data removed]",
      "text/plain": [
       "<Figure size 648x576 with 1 Axes>"
      ]
     },
     "metadata": {
      "needs_background": "light"
     },
     "output_type": "display_data"
    }
   ],
   "source": [
    "# # take data\n",
    "# data = pd.read_csv(\"Bestsellers.csv\")\n",
    " \n",
    "# # form dataframe\n",
    "# data = data.head()\n",
    " \n",
    "# df = pd.DataFrame(data, columns=[\"Name\", \"Price\", \"User Rating\"])\n",
    "import matplotlib.pyplot as mp\n",
    "# plot the dataframe\n",
    "# df1 = df\n",
    "df.head(100).plot(y=[\"CharCounts\"], kind=\"bar\", figsize=(9, 8))\n",
    " \n",
    "# print bar graph\n",
    "mp.show()"
   ]
  },
  {
   "cell_type": "code",
   "execution_count": null,
   "metadata": {},
   "outputs": [],
   "source": []
  }
 ],
 "metadata": {
  "kernelspec": {
   "display_name": "Python 3",
   "language": "python",
   "name": "python3"
  },
  "language_info": {
   "codemirror_mode": {
    "name": "ipython",
    "version": 3
   },
   "file_extension": ".py",
   "mimetype": "text/x-python",
   "name": "python",
   "nbconvert_exporter": "python",
   "pygments_lexer": "ipython3",
   "version": "3.8.12"
  },
  "toc": {
   "base_numbering": 1,
   "nav_menu": {},
   "number_sections": true,
   "sideBar": true,
   "skip_h1_title": false,
   "title_cell": "Table of Contents",
   "title_sidebar": "Contents",
   "toc_cell": false,
   "toc_position": {},
   "toc_section_display": true,
   "toc_window_display": false
  }
 },
 "nbformat": 4,
 "nbformat_minor": 4
}
